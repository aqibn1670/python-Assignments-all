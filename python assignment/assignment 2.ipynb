{
 "cells": [
  {
   "cell_type": "code",
   "execution_count": 3,
   "metadata": {},
   "outputs": [
    {
     "name": "stdout",
     "output_type": "stream",
     "text": [
      "Enter Marks in Subject 70\n",
      "Enter Marks in Subject 80\n",
      "Enter Marks in Subject 90\n",
      "Enter Marks in Subject 76\n",
      "Enter Marks in Subject 98\n",
      "------------Transcript------------\n",
      "\t\tMarks\tGrade\n",
      "Subject 1\t70\tB\n",
      "Subject 2\t80\tA\n",
      "Subject 3\t90\tA-One\n",
      "Subject 4\t76\tB\n",
      "Subject 5\t98\tA-One\n",
      "----------------------------------\n",
      "Total Marks : 414\tPercentage : 82.8%\tGrade :A\n"
     ]
    }
   ],
   "source": [
    "Marks=[]\n",
    "Total_Marks = 0\n",
    "Total_Percentage = 0\n",
    "for i in range(5):\n",
    "    Marks.append(int(input(\"Enter Marks in Subject \")))\n",
    "    Total_Marks += Marks[i]\n",
    "Total_Percentage = (sum(Marks)/500)*100\n",
    "if(Total_Percentage >= 90 ):\n",
    "    Total_Grade = \"A-One\"\n",
    "elif(Total_Percentage >= 80):\n",
    "    Total_Grade = \"A\"\n",
    "elif(Total_Percentage >= 70):\n",
    "    Total_Grade = \"B\"\n",
    "elif(Total_Percentage >= 60):\n",
    "    Total_Grade = \"C\"\n",
    "elif(Total_Percentage >= 50):\n",
    "    Total_Grade = \"D\"\n",
    "else:\n",
    "    Total_Grade = \"F\"\n",
    "print (\"------------Transcript------------\")\n",
    "print(\"\\t\\t\" + \"Marks\\tGrade\")\n",
    "for i in range(5):\n",
    "        if(Marks[i] >= 90 ):\n",
    "            grade = \"A-One\"\n",
    "        elif(Marks[i] >= 80):\n",
    "            grade = \"A\"\n",
    "        elif(Marks[i] >= 70):\n",
    "            grade = \"B\"\n",
    "        elif(Marks[i] >= 60):\n",
    "            grade = \"C\"\n",
    "        elif(Marks[i] >= 50):\n",
    "            grade = \"D\"\n",
    "        else:\n",
    "            grade = \"F\"\n",
    "        print(\"Subject \" + str(i+1) + \"\\t\" + str(Marks[i]) + \"\\t\" + grade)\n",
    "print (\"----------------------------------\")\n",
    "print(\"Total Marks : \" + str(sum(Marks)) + \"\\tPercentage : \" + str(Total_Percentage) + \"%\\tGrade :\" + str(Total_Grade))\n"
   ]
  },
  {
   "cell_type": "code",
   "execution_count": 4,
   "metadata": {},
   "outputs": [
    {
     "name": "stdout",
     "output_type": "stream",
     "text": [
      "Enter A Number : 5\n",
      "Given Number 5 is a odd number\n"
     ]
    }
   ],
   "source": [
    "number = int(input(\"Enter A Number : \"))\n",
    "if(number % 2 == 0):\n",
    "    print(\"Given Number \" + str(number) + \" is an even number\")\n",
    "else:\n",
    "    print(\"Given Number \" + str(number) + \" is a odd number\")"
   ]
  },
  {
   "cell_type": "code",
   "execution_count": 6,
   "metadata": {},
   "outputs": [
    {
     "name": "stdout",
     "output_type": "stream",
     "text": [
      "The Length of the stored list is : 4\n"
     ]
    }
   ],
   "source": [
    "Example_List = [\"Aqib\",\"Naeem\",\"Student\",\"20 Years\"]\n",
    "print(\"The Length of the stored list is : \"+ str(len(Example_List)))"
   ]
  },
  {
   "cell_type": "code",
   "execution_count": 7,
   "metadata": {},
   "outputs": [
    {
     "name": "stdout",
     "output_type": "stream",
     "text": [
      "The Sum of Numbers in the List is : 55\n"
     ]
    }
   ],
   "source": [
    "numbers = [0,1,2,3,4,5,6,7,8,9,10]\n",
    "print(\"The Sum of Numbers in the List is : \" + str(sum(numbers)))"
   ]
  },
  {
   "cell_type": "code",
   "execution_count": 8,
   "metadata": {},
   "outputs": [
    {
     "name": "stdout",
     "output_type": "stream",
     "text": [
      "Largers number in the list is : 1090\n"
     ]
    }
   ],
   "source": [
    "a = [1090, 111, 299, 399, 50, 82, 23, 1, 298, 75, 100]\n",
    "print(\"Largers number in the list is : \" + str(max(a)))"
   ]
  },
  {
   "cell_type": "code",
   "execution_count": 10,
   "metadata": {},
   "outputs": [
    {
     "name": "stdout",
     "output_type": "stream",
     "text": [
      "Numbers Less than 5 in the list are : \n",
      "1\n",
      "1\n",
      "2\n",
      "3\n",
      "4\n"
     ]
    }
   ],
   "source": [
    "a = [1, 1, 2, 3, 4, 5, 8, 13, 21, 34, 55, 89]\n",
    "print(\"Numbers Less than 5 in the list are : \")\n",
    "for i in range(len(a)):\n",
    "    if(a[i] < 5):\n",
    "        print(a[i])"
   ]
  }
 ],
 "metadata": {
  "kernelspec": {
   "display_name": "Python 3",
   "language": "python",
   "name": "python3"
  },
  "language_info": {
   "codemirror_mode": {
    "name": "ipython",
    "version": 3
   },
   "file_extension": ".py",
   "mimetype": "text/x-python",
   "name": "python",
   "nbconvert_exporter": "python",
   "pygments_lexer": "ipython3",
   "version": "3.7.4"
  }
 },
 "nbformat": 4,
 "nbformat_minor": 2
}
