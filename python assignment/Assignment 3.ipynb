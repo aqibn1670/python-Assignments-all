{
 "cells": [
  {
   "cell_type": "code",
   "execution_count": 1,
   "metadata": {},
   "outputs": [
    {
     "name": "stdout",
     "output_type": "stream",
     "text": [
      "Enter First  Value : 6\n",
      "Enter Second Value : 5\n",
      "Enter an Operator (+,-,*,/,^)*\n",
      "Product of 6 & 5 = 30\n"
     ]
    }
   ],
   "source": [
    "a = int(input(\"Enter First  Value : \"))\n",
    "b = int(input(\"Enter Second Value : \"))\n",
    "c = input(\"Enter an Operator (+,-,*,/,^)\")\n",
    "if(c == '+'):\n",
    "    print(\"Sum of \"+ str(a) ,'&', str(b) , '=' , str(a+b))\n",
    "elif(c == '-'):\n",
    "    print(\"Difference of \"+ str(a) ,'&', str(b) , '=' , str(a-b))\n",
    "elif(c == '*'):\n",
    "    print(\"Product of \"+ str(a) ,'&', str(b) , '=' , str(a*b))\n",
    "elif(c == '/'):\n",
    "    print(\"Division of \"+ str(a) ,'&', str(b) , '=' , str(a/b))\n",
    "elif(c == '^'):\n",
    "    print(str(a) , \"to the power\", str(b) , '=' , str(a**b))"
   ]
  },
  {
   "cell_type": "code",
   "execution_count": 2,
   "metadata": {},
   "outputs": [
    {
     "name": "stdout",
     "output_type": "stream",
     "text": [
      "No Numeric Value was Found in the First list :  ['Sample', 'List', 'with', 'Number']\n",
      "A Numeric Value Found in the First list :  ['Sample', 'List', 'without', 'a', 'Number', 8]\n"
     ]
    }
   ],
   "source": [
    "example_list_1 = ['Sample','List','with','Number']\n",
    "example_list_2 = ['Sample','List','without','a','Number',8]\n",
    "found = 'false';\n",
    "for value in example_list_1:\n",
    "    if(type(value) == int):\n",
    "        print(\"A Numeric Value Found in the First list : \" , example_list_1)\n",
    "        found = true;\n",
    "        break;\n",
    "if(found == 'false'):\n",
    "    print(\"No Numeric Value was Found in the First list : \" , example_list_1)\n",
    "\n",
    "for value in example_list_2:\n",
    "    if(type(value) == int):\n",
    "        print(\"A Numeric Value Found in the First list : \" , example_list_2)\n",
    "        found = 'true';\n",
    "        break;\n",
    "if(found == 'false'):\n",
    "    print(\"No Numeric Value was Found in the First list : \" , example_list_2)"
   ]
  },
  {
   "cell_type": "code",
   "execution_count": 5,
   "metadata": {},
   "outputs": [
    {
     "name": "stdout",
     "output_type": "stream",
     "text": [
      "Enter new key's name : fname\n",
      "Enter new value associated with the key given above : naeem shahzada\n",
      "{'name': 'Aqib Naeem', 'fname': 'naeem shahzada'}\n"
     ]
    }
   ],
   "source": [
    "example_dictionary = {\n",
    "    'name' : 'Aqib Naeem'\n",
    "}\n",
    "new_key = input(\"Enter new key's name : \")\n",
    "new_value = input(\"Enter new value associated with the key given above : \")\n",
    "example_dictionary[new_key] = new_value\n",
    "print(example_dictionary)"
   ]
  },
  {
   "cell_type": "code",
   "execution_count": 6,
   "metadata": {},
   "outputs": [
    {
     "name": "stdout",
     "output_type": "stream",
     "text": [
      "sum of all integers in the lists is : 30\n"
     ]
    }
   ],
   "source": [
    "example_list = {\n",
    "    'a' : 5,\n",
    "    'b' : 10,\n",
    "    'd' : \"String Value\",\n",
    "    'e' : 15\n",
    "}\n",
    "sums = 0;\n",
    "for c in example_list.values():\n",
    "    if(type(c) == int):\n",
    "        sums = sums + c\n",
    "print(\"sum of all integers in the lists is :\", sums)"
   ]
  },
  {
   "cell_type": "code",
   "execution_count": 7,
   "metadata": {},
   "outputs": [
    {
     "name": "stdout",
     "output_type": "stream",
     "text": [
      "Duplicate Items in the List :  []\n"
     ]
    }
   ],
   "source": [
    "ex_list = [45,20,36,100,30,10,50,60,70,40,80]\n",
    "unique = []\n",
    "copy = []\n",
    "for a in ex_list:\n",
    "    if a not in unique:\n",
    "        unique.append(a)\n",
    "    elif a not in copy:\n",
    "        copy.append(a)    \n",
    "print(\"Duplicate Items in the List : \", copy)"
   ]
  },
  {
   "cell_type": "code",
   "execution_count": null,
   "metadata": {},
   "outputs": [],
   "source": [
    "ex_dictionary = {\n",
    "    'key1' : \"lorem Ipsum\",\n",
    "    'key2' : \"lorem Ipsum\",\n",
    "    'key3' : \"lorem Ipsum\",\n",
    "    'key3' : \"lorem Ipsum\"\n",
    "}\n",
    "check_key = input(\"Enter a key to check its existence : \")\n",
    "if check_key in ex_dictionary.keys():\n",
    "    print (\"Key Already Exist in the Dictionary\")\n",
    "else :\n",
    "    print (\"Key Does NOT Exist in the Dictionary\")"
   ]
  }
 ],
 "metadata": {
  "kernelspec": {
   "display_name": "Python 3",
   "language": "python",
   "name": "python3"
  },
  "language_info": {
   "codemirror_mode": {
    "name": "ipython",
    "version": 3
   },
   "file_extension": ".py",
   "mimetype": "text/x-python",
   "name": "python",
   "nbconvert_exporter": "python",
   "pygments_lexer": "ipython3",
   "version": "3.7.4"
  }
 },
 "nbformat": 4,
 "nbformat_minor": 2
}
